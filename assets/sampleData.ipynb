{
 "cells": [
  {
   "cell_type": "markdown",
   "metadata": {},
   "source": [
    "#### This Jupyter notebook is used to create HazardAhead and other Tiger Graph Analytics sample data"
   ]
  },
  {
   "cell_type": "markdown",
   "metadata": {},
   "source": [
    "sample data created in this notebook does not use any proprietary/license data, however, most of the examples/samples generated use all available free data samples from internet."
   ]
  },
  {
   "cell_type": "code",
   "execution_count": 35,
   "metadata": {},
   "outputs": [],
   "source": [
    "using DataFrames, CSV, Dates, Distributions"
   ]
  },
  {
   "cell_type": "code",
   "execution_count": 84,
   "metadata": {},
   "outputs": [
    {
     "data": {
      "text/html": [
       "<div class=\"data-frame\"><p>1,000 rows × 15 columns (omitted printing of 7 columns)</p><table class=\"data-frame\"><thead><tr><th></th><th>id</th><th>bookDate</th><th>name</th><th>phoneNo</th><th>age</th><th>gender</th><th>checkIn</th><th>checkOut</th></tr><tr><th></th><th title=\"Int64\">Int64</th><th title=\"Date\">Date</th><th title=\"String\">String</th><th title=\"Int64\">Int64</th><th title=\"Int64\">Int64</th><th title=\"String\">String</th><th title=\"Date\">Date</th><th title=\"Date\">Date</th></tr></thead><tbody><tr><th>1</th><td>1</td><td>2020-04-01</td><td>Last First Name M.</td><td>8373319834</td><td>52</td><td>Female</td><td>2020-04-05</td><td>2020-04-06</td></tr><tr><th>2</th><td>2</td><td>2020-04-05</td><td>Last First Name M.</td><td>1899451981</td><td>20</td><td>Others</td><td>2020-04-03</td><td>2020-04-03</td></tr><tr><th>3</th><td>3</td><td>2020-04-04</td><td>Last First Name M.</td><td>7333592644</td><td>28</td><td>NA</td><td>2020-04-08</td><td>2020-04-08</td></tr><tr><th>4</th><td>4</td><td>2020-04-09</td><td>Last First Name M.</td><td>8947398188</td><td>18</td><td>Male</td><td>2020-04-02</td><td>2020-04-03</td></tr><tr><th>5</th><td>5</td><td>2020-04-05</td><td>Last First Name M.</td><td>1925559722</td><td>38</td><td>Others</td><td>2020-04-10</td><td>2020-04-04</td></tr><tr><th>6</th><td>6</td><td>2020-04-08</td><td>Last First Name M.</td><td>9929036408</td><td>49</td><td>NA</td><td>2020-04-04</td><td>2020-04-07</td></tr><tr><th>7</th><td>7</td><td>2020-04-06</td><td>Last First Name M.</td><td>9049560307</td><td>78</td><td>Male</td><td>2020-04-10</td><td>2020-04-08</td></tr><tr><th>8</th><td>8</td><td>2020-04-10</td><td>Last First Name M.</td><td>4888261095</td><td>35</td><td>Female</td><td>2020-04-06</td><td>2020-04-01</td></tr><tr><th>9</th><td>9</td><td>2020-04-09</td><td>Last First Name M.</td><td>8933904310</td><td>41</td><td>NA</td><td>2020-04-03</td><td>2020-04-09</td></tr><tr><th>10</th><td>10</td><td>2020-04-02</td><td>Last First Name M.</td><td>6820414171</td><td>70</td><td>NA</td><td>2020-04-04</td><td>2020-04-03</td></tr><tr><th>11</th><td>11</td><td>2020-04-04</td><td>Last First Name M.</td><td>8587403353</td><td>59</td><td>Others</td><td>2020-04-02</td><td>2020-04-06</td></tr><tr><th>12</th><td>12</td><td>2020-04-01</td><td>Last First Name M.</td><td>3378600648</td><td>35</td><td>Others</td><td>2020-04-08</td><td>2020-04-09</td></tr><tr><th>13</th><td>13</td><td>2020-04-02</td><td>Last First Name M.</td><td>8057120548</td><td>32</td><td>Others</td><td>2020-04-09</td><td>2020-04-02</td></tr><tr><th>14</th><td>14</td><td>2020-04-08</td><td>Last First Name M.</td><td>3911462517</td><td>34</td><td>Male</td><td>2020-04-03</td><td>2020-04-02</td></tr><tr><th>15</th><td>15</td><td>2020-04-03</td><td>Last First Name M.</td><td>6784417753</td><td>25</td><td>Others</td><td>2020-04-01</td><td>2020-04-09</td></tr><tr><th>16</th><td>16</td><td>2020-04-08</td><td>Last First Name M.</td><td>3748331140</td><td>24</td><td>NA</td><td>2020-04-02</td><td>2020-04-05</td></tr><tr><th>17</th><td>17</td><td>2020-04-01</td><td>Last First Name M.</td><td>8919440145</td><td>47</td><td>NA</td><td>2020-04-05</td><td>2020-04-05</td></tr><tr><th>18</th><td>18</td><td>2020-04-08</td><td>Last First Name M.</td><td>6120249917</td><td>78</td><td>Male</td><td>2020-04-06</td><td>2020-04-01</td></tr><tr><th>19</th><td>19</td><td>2020-04-05</td><td>Last First Name M.</td><td>5773591216</td><td>33</td><td>NA</td><td>2020-04-02</td><td>2020-04-04</td></tr><tr><th>20</th><td>20</td><td>2020-04-10</td><td>Last First Name M.</td><td>9599905492</td><td>36</td><td>Female</td><td>2020-04-07</td><td>2020-04-01</td></tr><tr><th>21</th><td>21</td><td>2020-04-03</td><td>Last First Name M.</td><td>2744962079</td><td>68</td><td>Others</td><td>2020-04-06</td><td>2020-04-10</td></tr><tr><th>22</th><td>22</td><td>2020-04-06</td><td>Last First Name M.</td><td>2602818778</td><td>10</td><td>Female</td><td>2020-04-06</td><td>2020-04-03</td></tr><tr><th>23</th><td>23</td><td>2020-04-03</td><td>Last First Name M.</td><td>9792256757</td><td>21</td><td>Female</td><td>2020-04-09</td><td>2020-04-01</td></tr><tr><th>24</th><td>24</td><td>2020-04-02</td><td>Last First Name M.</td><td>7048199684</td><td>24</td><td>Others</td><td>2020-04-02</td><td>2020-04-02</td></tr><tr><th>25</th><td>25</td><td>2020-04-01</td><td>Last First Name M.</td><td>1684250102</td><td>25</td><td>Male</td><td>2020-04-07</td><td>2020-04-05</td></tr><tr><th>26</th><td>26</td><td>2020-04-06</td><td>Last First Name M.</td><td>7365550661</td><td>41</td><td>Others</td><td>2020-04-05</td><td>2020-04-03</td></tr><tr><th>27</th><td>27</td><td>2020-04-02</td><td>Last First Name M.</td><td>3199691321</td><td>16</td><td>NA</td><td>2020-04-10</td><td>2020-04-02</td></tr><tr><th>28</th><td>28</td><td>2020-04-09</td><td>Last First Name M.</td><td>2275909481</td><td>12</td><td>Male</td><td>2020-04-07</td><td>2020-04-06</td></tr><tr><th>29</th><td>29</td><td>2020-04-05</td><td>Last First Name M.</td><td>4940029221</td><td>12</td><td>Others</td><td>2020-04-09</td><td>2020-04-06</td></tr><tr><th>30</th><td>30</td><td>2020-04-06</td><td>Last First Name M.</td><td>3277674519</td><td>36</td><td>NA</td><td>2020-04-02</td><td>2020-04-07</td></tr><tr><th>&vellip;</th><td>&vellip;</td><td>&vellip;</td><td>&vellip;</td><td>&vellip;</td><td>&vellip;</td><td>&vellip;</td><td>&vellip;</td><td>&vellip;</td></tr></tbody></table></div>"
      ],
      "text/latex": [
       "\\begin{tabular}{r|ccccccccc}\n",
       "\t& id & bookDate & name & phoneNo & age & gender & checkIn & checkOut & \\\\\n",
       "\t\\hline\n",
       "\t& Int64 & Date & String & Int64 & Int64 & String & Date & Date & \\\\\n",
       "\t\\hline\n",
       "\t1 & 1 & 2020-04-01 & Last First Name M. & 8373319834 & 52 & Female & 2020-04-05 & 2020-04-06 & $\\dots$ \\\\\n",
       "\t2 & 2 & 2020-04-05 & Last First Name M. & 1899451981 & 20 & Others & 2020-04-03 & 2020-04-03 & $\\dots$ \\\\\n",
       "\t3 & 3 & 2020-04-04 & Last First Name M. & 7333592644 & 28 & NA & 2020-04-08 & 2020-04-08 & $\\dots$ \\\\\n",
       "\t4 & 4 & 2020-04-09 & Last First Name M. & 8947398188 & 18 & Male & 2020-04-02 & 2020-04-03 & $\\dots$ \\\\\n",
       "\t5 & 5 & 2020-04-05 & Last First Name M. & 1925559722 & 38 & Others & 2020-04-10 & 2020-04-04 & $\\dots$ \\\\\n",
       "\t6 & 6 & 2020-04-08 & Last First Name M. & 9929036408 & 49 & NA & 2020-04-04 & 2020-04-07 & $\\dots$ \\\\\n",
       "\t7 & 7 & 2020-04-06 & Last First Name M. & 9049560307 & 78 & Male & 2020-04-10 & 2020-04-08 & $\\dots$ \\\\\n",
       "\t8 & 8 & 2020-04-10 & Last First Name M. & 4888261095 & 35 & Female & 2020-04-06 & 2020-04-01 & $\\dots$ \\\\\n",
       "\t9 & 9 & 2020-04-09 & Last First Name M. & 8933904310 & 41 & NA & 2020-04-03 & 2020-04-09 & $\\dots$ \\\\\n",
       "\t10 & 10 & 2020-04-02 & Last First Name M. & 6820414171 & 70 & NA & 2020-04-04 & 2020-04-03 & $\\dots$ \\\\\n",
       "\t11 & 11 & 2020-04-04 & Last First Name M. & 8587403353 & 59 & Others & 2020-04-02 & 2020-04-06 & $\\dots$ \\\\\n",
       "\t12 & 12 & 2020-04-01 & Last First Name M. & 3378600648 & 35 & Others & 2020-04-08 & 2020-04-09 & $\\dots$ \\\\\n",
       "\t13 & 13 & 2020-04-02 & Last First Name M. & 8057120548 & 32 & Others & 2020-04-09 & 2020-04-02 & $\\dots$ \\\\\n",
       "\t14 & 14 & 2020-04-08 & Last First Name M. & 3911462517 & 34 & Male & 2020-04-03 & 2020-04-02 & $\\dots$ \\\\\n",
       "\t15 & 15 & 2020-04-03 & Last First Name M. & 6784417753 & 25 & Others & 2020-04-01 & 2020-04-09 & $\\dots$ \\\\\n",
       "\t16 & 16 & 2020-04-08 & Last First Name M. & 3748331140 & 24 & NA & 2020-04-02 & 2020-04-05 & $\\dots$ \\\\\n",
       "\t17 & 17 & 2020-04-01 & Last First Name M. & 8919440145 & 47 & NA & 2020-04-05 & 2020-04-05 & $\\dots$ \\\\\n",
       "\t18 & 18 & 2020-04-08 & Last First Name M. & 6120249917 & 78 & Male & 2020-04-06 & 2020-04-01 & $\\dots$ \\\\\n",
       "\t19 & 19 & 2020-04-05 & Last First Name M. & 5773591216 & 33 & NA & 2020-04-02 & 2020-04-04 & $\\dots$ \\\\\n",
       "\t20 & 20 & 2020-04-10 & Last First Name M. & 9599905492 & 36 & Female & 2020-04-07 & 2020-04-01 & $\\dots$ \\\\\n",
       "\t21 & 21 & 2020-04-03 & Last First Name M. & 2744962079 & 68 & Others & 2020-04-06 & 2020-04-10 & $\\dots$ \\\\\n",
       "\t22 & 22 & 2020-04-06 & Last First Name M. & 2602818778 & 10 & Female & 2020-04-06 & 2020-04-03 & $\\dots$ \\\\\n",
       "\t23 & 23 & 2020-04-03 & Last First Name M. & 9792256757 & 21 & Female & 2020-04-09 & 2020-04-01 & $\\dots$ \\\\\n",
       "\t24 & 24 & 2020-04-02 & Last First Name M. & 7048199684 & 24 & Others & 2020-04-02 & 2020-04-02 & $\\dots$ \\\\\n",
       "\t25 & 25 & 2020-04-01 & Last First Name M. & 1684250102 & 25 & Male & 2020-04-07 & 2020-04-05 & $\\dots$ \\\\\n",
       "\t26 & 26 & 2020-04-06 & Last First Name M. & 7365550661 & 41 & Others & 2020-04-05 & 2020-04-03 & $\\dots$ \\\\\n",
       "\t27 & 27 & 2020-04-02 & Last First Name M. & 3199691321 & 16 & NA & 2020-04-10 & 2020-04-02 & $\\dots$ \\\\\n",
       "\t28 & 28 & 2020-04-09 & Last First Name M. & 2275909481 & 12 & Male & 2020-04-07 & 2020-04-06 & $\\dots$ \\\\\n",
       "\t29 & 29 & 2020-04-05 & Last First Name M. & 4940029221 & 12 & Others & 2020-04-09 & 2020-04-06 & $\\dots$ \\\\\n",
       "\t30 & 30 & 2020-04-06 & Last First Name M. & 3277674519 & 36 & NA & 2020-04-02 & 2020-04-07 & $\\dots$ \\\\\n",
       "\t$\\dots$ & $\\dots$ & $\\dots$ & $\\dots$ & $\\dots$ & $\\dots$ & $\\dots$ & $\\dots$ & $\\dots$ &  \\\\\n",
       "\\end{tabular}\n"
      ],
      "text/plain": [
       "\u001b[1m1000×15 DataFrame\u001b[0m\n",
       "\u001b[1m  Row \u001b[0m│\u001b[1m id    \u001b[0m\u001b[1m bookDate   \u001b[0m\u001b[1m name               \u001b[0m\u001b[1m phoneNo    \u001b[0m\u001b[1m age   \u001b[0m\u001b[1m gender \u001b[0m\u001b[1m chec\u001b[0m ⋯\n",
       "\u001b[1m      \u001b[0m│\u001b[90m Int64 \u001b[0m\u001b[90m Date       \u001b[0m\u001b[90m String             \u001b[0m\u001b[90m Int64      \u001b[0m\u001b[90m Int64 \u001b[0m\u001b[90m String \u001b[0m\u001b[90m Date\u001b[0m ⋯\n",
       "──────┼─────────────────────────────────────────────────────────────────────────\n",
       "    1 │     1  2020-04-01  Last First Name M.  8373319834     52  Female  2020 ⋯\n",
       "    2 │     2  2020-04-05  Last First Name M.  1899451981     20  Others  2020\n",
       "    3 │     3  2020-04-04  Last First Name M.  7333592644     28  NA      2020\n",
       "    4 │     4  2020-04-09  Last First Name M.  8947398188     18  Male    2020\n",
       "    5 │     5  2020-04-05  Last First Name M.  1925559722     38  Others  2020 ⋯\n",
       "    6 │     6  2020-04-08  Last First Name M.  9929036408     49  NA      2020\n",
       "    7 │     7  2020-04-06  Last First Name M.  9049560307     78  Male    2020\n",
       "    8 │     8  2020-04-10  Last First Name M.  4888261095     35  Female  2020\n",
       "    9 │     9  2020-04-09  Last First Name M.  8933904310     41  NA      2020 ⋯\n",
       "   10 │    10  2020-04-02  Last First Name M.  6820414171     70  NA      2020\n",
       "   11 │    11  2020-04-04  Last First Name M.  8587403353     59  Others  2020\n",
       "  ⋮   │   ⋮        ⋮               ⋮               ⋮         ⋮      ⋮          ⋱\n",
       "  991 │   991  2020-04-08  Last First Name M.  7572314982     38  Female  2020\n",
       "  992 │   992  2020-04-10  Last First Name M.  9605210384     25  Others  2020 ⋯\n",
       "  993 │   993  2020-04-06  Last First Name M.  3138789884     51  Male    2020\n",
       "  994 │   994  2020-04-03  Last First Name M.  5086603151     64  Female  2020\n",
       "  995 │   995  2020-04-05  Last First Name M.  2964859260     19  NA      2020\n",
       "  996 │   996  2020-04-06  Last First Name M.  5800516819     30  Male    2020 ⋯\n",
       "  997 │   997  2020-04-07  Last First Name M.  6697721416     75  Female  2020\n",
       "  998 │   998  2020-04-05  Last First Name M.  1239877480     45  NA      2020\n",
       "  999 │   999  2020-04-04  Last First Name M.  1659337571     73  Female  2020\n",
       " 1000 │  1000  2020-04-05  Last First Name M.  8241764700     34  Others  2020 ⋯\n",
       "\u001b[36m                                                  9 columns and 979 rows omitted\u001b[0m"
      ]
     },
     "execution_count": 84,
     "metadata": {},
     "output_type": "execute_result"
    }
   ],
   "source": [
    "sampleSizeVisitor = 1000\n",
    "visitorDF = DataFrame(\n",
    "    id = 1:1:sampleSizeVisitor, \n",
    "    bookDate = rand(Date(\"2020-04-01\", dateformat\"y-m-d\"): Day(1): Date(\"2020-04-10\", dateformat\"y-m-d\"), sampleSizeVisitor),\n",
    "    name = \"Last First Name M.\",\n",
    "    phoneNo = rand(1110000000:1:9988800000, sampleSizeVisitor), \n",
    "    age = rand(9:1:78, sampleSizeVisitor), \n",
    "    gender = rand([\"Male\",\"Female\",\"Others\",\"NA\"], sampleSizeVisitor),\n",
    "    checkIn = rand(Date(\"2020-04-01\", dateformat\"y-m-d\"): Day(1): Date(\"2020-04-10\", dateformat\"y-m-d\"), sampleSizeVisitor),\n",
    "    checkOut = rand(Date(\"2020-04-01\", dateformat\"y-m-d\"): Day(1): Date(\"2020-04-10\", dateformat\"y-m-d\"), sampleSizeVisitor),\n",
    "    specialNeeds = rand([0,0,0,0,0,0,0,0,0,0,0,0,0,0,0,0,0,0,1], sampleSizeVisitor), # biased distributions, mostly false\n",
    "    race = \"na\",\n",
    "    price = rand(Normal(100, 2), sampleSizeVisitor), \n",
    "    accompanies = rand([1,2,3,4], sampleSizeVisitor),\n",
    "    family = rand([0,1], sampleSizeVisitor),\n",
    "    localResident = rand([0,1], sampleSizeVisitor),\n",
    "    ADDRESS = \"Not available\",\n",
    "    )\n",
    "# CSV.write(\"sampleData/visitors.csv\", visitorDF)\n"
   ]
  },
  {
   "cell_type": "code",
   "execution_count": 81,
   "metadata": {},
   "outputs": [
    {
     "data": {
      "text/plain": [
       "\"ride.csv\""
      ]
     },
     "execution_count": 81,
     "metadata": {},
     "output_type": "execute_result"
    }
   ],
   "source": [
    "sampleSize = 20\n",
    "rideDF = DataFrame(\n",
    "    id = 1:1:sampleSize, \n",
    "    name = \"Joy Ride\",\n",
    "    indoor = rand([0,1], sampleSize),\n",
    "    inlets = rand([1,2,3,4], sampleSize),\n",
    "    outlets = rand([1,2,3,4], sampleSize),\n",
    "    temperature = rand(64:1:94, sampleSize),\n",
    "    avgWaitTime = rand(5:1:110, sampleSize),\n",
    "    popularityRating = rand(1:1:10, sampleSize),\n",
    "    rideType = rand([\"Adult\",\"Teen\",\"Kids\", \"YoungAdult\"], sampleSize),\n",
    "    rideClass = rand([\"Luxury\", \"Special\"], sampleSize),\n",
    "    maturityRating = rand(1:1:10, sampleSize),\n",
    "    numExits = rand([1,2,3,4], sampleSize),\n",
    "    area = rand(5000:5:15000, sampleSize),\n",
    "    numEmployees = rand(1:1:5, sampleSize)\n",
    "    )\n",
    "# CSV.write(\"sampleData/ride.csv\", rideDF)"
   ]
  },
  {
   "cell_type": "code",
   "execution_count": 83,
   "metadata": {},
   "outputs": [
    {
     "data": {
      "text/plain": [
       "\"sampleData/foodcourt.csv\""
      ]
     },
     "execution_count": 83,
     "metadata": {},
     "output_type": "execute_result"
    }
   ],
   "source": [
    "sampleSize = 20\n",
    "foodcourtDF = DataFrame(\n",
    "    id = 1:1:sampleSize, \n",
    "    name = \"Joy Ride\",\n",
    "    indoor = rand([0,1], sampleSize),\n",
    "    inlets = rand([1,2,3,4], sampleSize),\n",
    "    outlets = rand([1,2,3,4], sampleSize),\n",
    "    temperature = rand(64:1:94, sampleSize),\n",
    "    avgWaitTime = rand(5:1:110, sampleSize),\n",
    "    popularityRating = rand(1:1:10, sampleSize),\n",
    "    foodType = rand([\"Fast\",\"Formal\",\"Snacks\"], sampleSize),\n",
    "    numExits = rand([1,2,3,4], sampleSize),\n",
    "    area = rand(5000:5:15000, sampleSize),\n",
    "    numEmployees = rand(1:1:15, sampleSize)\n",
    "    )\n",
    "# CSV.write(\"sampleData/foodcourt.csv\", foodcourtDF)"
   ]
  },
  {
   "cell_type": "code",
   "execution_count": 87,
   "metadata": {},
   "outputs": [
    {
     "data": {
      "text/plain": [
       "\"sampleData/rides.csv\""
      ]
     },
     "execution_count": 87,
     "metadata": {},
     "output_type": "execute_result"
    }
   ],
   "source": [
    "ridesDF = DataFrame(\n",
    "    From = 1:1:sampleSizeVisitor, # visitor number\n",
    "    To = rand(1:1:sampleSize, sampleSizeVisitor), # ride number\n",
    "    rideTime = rand(Date(\"2020-04-01\", dateformat\"y-m-d\"): Day(1): Date(\"2020-04-10\", dateformat\"y-m-d\"), sampleSizeVisitor),\n",
    "    )\n",
    "# CSV.write(\"sampleData/rides.csv\", ridesDF)\n"
   ]
  },
  {
   "cell_type": "code",
   "execution_count": 89,
   "metadata": {},
   "outputs": [
    {
     "data": {
      "text/plain": [
       "\"sampleData/eats.csv\""
      ]
     },
     "execution_count": 89,
     "metadata": {},
     "output_type": "execute_result"
    }
   ],
   "source": [
    "eatsDF = DataFrame(\n",
    "    From = 1:1:sampleSizeVisitor, # visitor number\n",
    "    To = rand(1:1:sampleSize, sampleSizeVisitor), # food court number\n",
    "    rideTime = rand(Date(\"2020-04-01\", dateformat\"y-m-d\"): Day(1): Date(\"2020-04-10\", dateformat\"y-m-d\"), sampleSizeVisitor),\n",
    "    )\n",
    "# CSV.write(\"sampleData/eats.csv\", eatsDF)"
   ]
  },
  {
   "cell_type": "code",
   "execution_count": 90,
   "metadata": {},
   "outputs": [
    {
     "data": {
      "text/plain": [
       "\"sampleData/accompanied.csv\""
      ]
     },
     "execution_count": 90,
     "metadata": {},
     "output_type": "execute_result"
    }
   ],
   "source": [
    "accompaniedDF = DataFrame(\n",
    "    From = 1:1:sampleSizeVisitor, # visitor number\n",
    "    To = rand(1:1:sampleSizeVisitor, sampleSizeVisitor)\n",
    "    )\n",
    "# CSV.write(\"sampleData/accompanied.csv\", accompaniedDF)"
   ]
  },
  {
   "cell_type": "code",
   "execution_count": 93,
   "metadata": {},
   "outputs": [
    {
     "data": {
      "text/plain": [
       "\"sampleData/weather.csv\""
      ]
     },
     "execution_count": 93,
     "metadata": {},
     "output_type": "execute_result"
    }
   ],
   "source": [
    "##############################################\n",
    "# let's create weather data\n",
    "##############################################\n",
    "using DataFrames, CSV, Dates, Distributions\n",
    "sampleSize = 365\n",
    "weatherDF = DataFrame(\n",
    "    cityid = 1:1:sampleSize, \n",
    "    state = rand([\"LA\",\"LA\",\"FL\"], sampleSize),\n",
    "    indoorTemp = rand(64:1:94, sampleSize),\n",
    "    outdoorTemp = rand(64:1:94, sampleSize),\n",
    "    wind = rand(5:1:30, sampleSize),\n",
    "    humidity = rand(30:1:70, sampleSize),\n",
    "    precipitation = rand(0:1:5, sampleSize)\n",
    "    )\n",
    "\n",
    "first(weatherDF, 5)\n",
    "# CSV.write(\"sampleData/weather.csv\", weatherDF)"
   ]
  },
  {
   "cell_type": "code",
   "execution_count": null,
   "metadata": {},
   "outputs": [],
   "source": []
  }
 ],
 "metadata": {
  "interpreter": {
   "hash": "916dbcbb3f70747c44a77c7bcd40155683ae19c65e1c03b4aa3499c5328201f1"
  },
  "kernelspec": {
   "display_name": "Julia (4 threads) 1.7.0",
   "language": "julia",
   "name": "julia-(4-threads)-1.7"
  },
  "language_info": {
   "file_extension": ".jl",
   "mimetype": "application/julia",
   "name": "julia",
   "version": "1.7.0"
  },
  "orig_nbformat": 4
 },
 "nbformat": 4,
 "nbformat_minor": 2
}
